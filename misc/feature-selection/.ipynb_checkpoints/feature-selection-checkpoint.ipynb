{
 "cells": [
  {
   "cell_type": "markdown",
   "id": "661afc05-cceb-4f87-bbab-99ac38d83174",
   "metadata": {},
   "source": [
    "# Feature Selection Example (not done)\n",
    "Coming soon."
   ]
  },
  {
   "cell_type": "code",
   "execution_count": null,
   "id": "badc48f2-b56e-4888-aed7-b3fd08e19b3b",
   "metadata": {},
   "outputs": [],
   "source": []
  }
 ],
 "metadata": {
  "kernelspec": {
   "display_name": "Python 3",
   "language": "python",
   "name": "python3"
  },
  "language_info": {
   "codemirror_mode": {
    "name": "ipython",
    "version": 3
   },
   "file_extension": ".py",
   "mimetype": "text/x-python",
   "name": "python",
   "nbconvert_exporter": "python",
   "pygments_lexer": "ipython3",
   "version": "3.8.8"
  },
  "widgets": {
   "application/vnd.jupyter.widget-state+json": {
    "state": {},
    "version_major": 2,
    "version_minor": 0
   }
  }
 },
 "nbformat": 4,
 "nbformat_minor": 5
}
